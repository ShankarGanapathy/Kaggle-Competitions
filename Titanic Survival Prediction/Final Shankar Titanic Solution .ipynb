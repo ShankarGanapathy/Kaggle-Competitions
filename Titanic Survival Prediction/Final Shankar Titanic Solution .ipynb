{
 "cells": [
  {
   "cell_type": "markdown",
   "metadata": {},
   "source": [
    "# The  Final Answer to the Titanic Problem"
   ]
  },
  {
   "cell_type": "code",
   "execution_count": 21,
   "metadata": {},
   "outputs": [],
   "source": [
    "import pandas as pd\n",
    "import numpy as np\n",
    "import matplotlib.pyplot as plt\n",
    "import seaborn as sns\n",
    "\n",
    "data = pd.read_csv(\"titanic_train.csv\")\n",
    "df = data\n",
    "\n",
    "male = pd.get_dummies(df['Sex'], drop_first= True)\n",
    "emb = pd.get_dummies(df['Embarked'], drop_first= True)\n",
    "df = pd.concat([df, male, emb], axis = 1)\n",
    "\n",
    "df.drop(['PassengerId', 'Name','Sex','Embarked', 'Ticket','Cabin']\n",
    "        ,axis = 1, inplace = True)\n",
    "\n",
    "\n",
    "def fillAge(col):\n",
    "    age = col[0]\n",
    "    pclass = col[1]\n",
    "    \n",
    "    if pd.isnull(age):\n",
    "        \n",
    "        if(pclass == 1):\n",
    "            return 37\n",
    "        elif(pclass == 2):\n",
    "            return 29\n",
    "        else: \n",
    "            return 25\n",
    "    else:\n",
    "        return age\n",
    "\n",
    "age_before_edit = df['Age']\n",
    "edit = pd.DataFrame(df[['Age','Pclass']])\n",
    "df['Age']= edit.apply(fillAge, axis = 1)\n",
    "\n",
    "sample = pd.get_dummies( df['Pclass'], drop_first = True )\n",
    "sample.rename(columns = {2: 'PClass 2', 3: 'Pclass 3'}, inplace=True )"
   ]
  },
  {
   "cell_type": "markdown",
   "metadata": {},
   "source": [
    "## Training the model"
   ]
  },
  {
   "cell_type": "code",
   "execution_count": 22,
   "metadata": {},
   "outputs": [],
   "source": [
    "X_train = df[['Pclass', 'Age', 'SibSp', 'Parch', 'Fare', 'male', 'Q','S']]\n",
    "y_train = df[['Survived']]"
   ]
  },
  {
   "cell_type": "code",
   "execution_count": 23,
   "metadata": {},
   "outputs": [
    {
     "name": "stderr",
     "output_type": "stream",
     "text": [
      "C:\\Users\\MSG\\Anaconda3\\lib\\site-packages\\sklearn\\utils\\validation.py:578: DataConversionWarning: A column-vector y was passed when a 1d array was expected. Please change the shape of y to (n_samples, ), for example using ravel().\n",
      "  y = column_or_1d(y, warn=True)\n"
     ]
    }
   ],
   "source": [
    "from sklearn.linear_model import LogisticRegression\n",
    "model = LogisticRegression(C = 100).fit(X_train, y_train)"
   ]
  },
  {
   "cell_type": "markdown",
   "metadata": {},
   "source": [
    "## Preprocessing the Test Dataset Before Prediction\n"
   ]
  },
  {
   "cell_type": "code",
   "execution_count": 24,
   "metadata": {},
   "outputs": [],
   "source": [
    "test_data = pd.read_csv(\"Edited_titanic_test.csv\")\n",
    "\n",
    "df = test_data\n",
    "\n",
    "male = pd.get_dummies(df['Sex'], drop_first= True)\n",
    "emb = pd.get_dummies(df['Embarked'], drop_first= True)\n",
    "df = pd.concat([df, male, emb], axis = 1)\n",
    "\n",
    "df.drop(['PassengerId', 'Name','Sex','Embarked', 'Ticket','Cabin']\n",
    "        ,axis = 1, inplace = True)\n",
    "\n",
    "sample = pd.get_dummies( df['Pclass'], drop_first = True )\n",
    "\n",
    "sample.rename(columns = {2: 'PClass 2', 3: 'Pclass 3'}, inplace=True )\n",
    "\n",
    "def fillAge(col):\n",
    "    age = col[0]\n",
    "    pclass = col[1]\n",
    "    \n",
    "    if pd.isnull(age):\n",
    "        \n",
    "        if(pclass == 1):\n",
    "            return 37\n",
    "        elif(pclass == 2):\n",
    "            return 29\n",
    "        else: \n",
    "            return 25\n",
    "    else:\n",
    "        return age\n",
    "    \n",
    "\n",
    "age_before_edit = df['Age']\n",
    "edit = pd.DataFrame(df[['Age','Pclass']])\n",
    "df['Age']= edit.apply(fillAge, axis = 1)\n",
    "\n",
    "sample = pd.get_dummies( df['Pclass'], drop_first = True )\n",
    "sample.rename(columns = {2: 'PClass 2', 3: 'Pclass 3'}, inplace=True )\n",
    "\n",
    "df.drop('Pclass',axis = 1)\n",
    "pd.concat((df, sample), axis = 1)\n",
    "\n",
    "predict_df = df"
   ]
  },
  {
   "cell_type": "markdown",
   "metadata": {},
   "source": [
    "# Prediction happens Here!!"
   ]
  },
  {
   "cell_type": "code",
   "execution_count": 79,
   "metadata": {},
   "outputs": [],
   "source": [
    "survival_test_DataSet = model.predict(predict_df)\n",
    "test_Dataset_answers_predictions = pd.DataFrame(survival_test_DataSet)\n",
    "test_Dataset_answers_predictions.rename(columns = {0: 'Predicted Survival'}, inplace = True )"
   ]
  },
  {
   "cell_type": "code",
   "execution_count": null,
   "metadata": {},
   "outputs": [],
   "source": [
    "print(test_Dataset_answers_predictions)"
   ]
  }
 ],
 "metadata": {
  "kernelspec": {
   "display_name": "Python [default]",
   "language": "python",
   "name": "python3"
  },
  "language_info": {
   "codemirror_mode": {
    "name": "ipython",
    "version": 3
   },
   "file_extension": ".py",
   "mimetype": "text/x-python",
   "name": "python",
   "nbconvert_exporter": "python",
   "pygments_lexer": "ipython3",
   "version": "3.6.5"
  }
 },
 "nbformat": 4,
 "nbformat_minor": 2
}
